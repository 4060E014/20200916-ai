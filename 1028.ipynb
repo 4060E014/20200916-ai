{
  "nbformat": 4,
  "nbformat_minor": 0,
  "metadata": {
    "colab": {
      "name": "1028",
      "provenance": [],
      "collapsed_sections": [],
      "authorship_tag": "ABX9TyP0zclMUo0xHYaOjQ8f/Ght",
      "include_colab_link": true
    },
    "kernelspec": {
      "name": "python3",
      "display_name": "Python 3"
    }
  },
  "cells": [
    {
      "cell_type": "markdown",
      "metadata": {
        "id": "view-in-github",
        "colab_type": "text"
      },
      "source": [
        "<a href=\"https://colab.research.google.com/github/4060E014/20200916-ai/blob/master/1028.ipynb\" target=\"_parent\"><img src=\"https://colab.research.google.com/assets/colab-badge.svg\" alt=\"Open In Colab\"/></a>"
      ]
    },
    {
      "cell_type": "markdown",
      "metadata": {
        "id": "gTQadlB229sc"
      },
      "source": [
        "**下載讀取資料**"
      ]
    },
    {
      "cell_type": "code",
      "metadata": {
        "id": "DeExJS08zwyt",
        "outputId": "db8e9248-2373-4fd6-82a1-53246e4c9509",
        "colab": {
          "base_uri": "https://localhost:8080/",
          "height": 204
        }
      },
      "source": [
        "!wget https://raw.githubusercontent.com/MyDearGreatTeacher/AI_and_security_2020/master/referendum2.csv"
      ],
      "execution_count": 1,
      "outputs": [
        {
          "output_type": "stream",
          "text": [
            "--2020-10-28 01:29:05--  https://raw.githubusercontent.com/MyDearGreatTeacher/AI_and_security_2020/master/referendum2.csv\n",
            "Resolving raw.githubusercontent.com (raw.githubusercontent.com)... 151.101.0.133, 151.101.64.133, 151.101.128.133, ...\n",
            "Connecting to raw.githubusercontent.com (raw.githubusercontent.com)|151.101.0.133|:443... connected.\n",
            "HTTP request sent, awaiting response... 200 OK\n",
            "Length: 219621 (214K) [text/plain]\n",
            "Saving to: ‘referendum2.csv’\n",
            "\n",
            "referendum2.csv     100%[===================>] 214.47K  --.-KB/s    in 0.04s   \n",
            "\n",
            "2020-10-28 01:29:05 (5.20 MB/s) - ‘referendum2.csv’ saved [219621/219621]\n",
            "\n"
          ],
          "name": "stdout"
        }
      ]
    },
    {
      "cell_type": "code",
      "metadata": {
        "id": "rRcXyyx70cUu"
      },
      "source": [
        "cat referendum2.csv"
      ],
      "execution_count": null,
      "outputs": []
    },
    {
      "cell_type": "code",
      "metadata": {
        "id": "5vc_QnFp1hUH"
      },
      "source": [
        "import pandas as pd\n",
        "refm = pd.read_csv('referendum2.csv')"
      ],
      "execution_count": 31,
      "outputs": []
    },
    {
      "cell_type": "markdown",
      "metadata": {
        "id": "9CVvYxia3F3z"
      },
      "source": [
        "**驗證資料**\n"
      ]
    },
    {
      "cell_type": "code",
      "metadata": {
        "id": "3wuPu90e2FxS"
      },
      "source": [
        "refm"
      ],
      "execution_count": null,
      "outputs": []
    },
    {
      "cell_type": "markdown",
      "metadata": {
        "id": "73o17OZk4Vu7"
      },
      "source": [
        "**整理資料**"
      ]
    },
    {
      "cell_type": "code",
      "metadata": {
        "id": "2jELhCIZ2Oth"
      },
      "source": [
        "refm['同意票數']"
      ],
      "execution_count": null,
      "outputs": []
    },
    {
      "cell_type": "code",
      "metadata": {
        "id": "dAMb8flq3oHY"
      },
      "source": [
        "refm2 = refm[~refm['鄉鎮市區'].isnull()]\n",
        "refm2"
      ],
      "execution_count": null,
      "outputs": []
    },
    {
      "cell_type": "code",
      "metadata": {
        "id": "92Unyswc4YsW"
      },
      "source": [
        "refm3 = refm.dropna(subset=['鄉鎮市區'])\n",
        "refm3"
      ],
      "execution_count": null,
      "outputs": []
    },
    {
      "cell_type": "code",
      "metadata": {
        "id": "S2kx3xQ55ax9",
        "outputId": "c042e828-41db-43e7-fe35-626e5761a37c",
        "colab": {
          "base_uri": "https://localhost:8080/",
          "height": 221
        }
      },
      "source": [
        "refm = refm3\n",
        "refm['贊成比例'] = refm['同意票數']/refm['投票數']\n",
        "refm['鄉鎮市區'] = refm['縣市'] + refm['鄉鎮市區']\n",
        "refm2 = refm.drop(columns=['縣市', '同意票數', '不同意票數', '有效票數', '無效票數', '投票數', '投票權人數'])\n",
        "refm3 = refm[['案件', '鄉鎮市區', '贊成比例']]"
      ],
      "execution_count": 27,
      "outputs": [
        {
          "output_type": "stream",
          "text": [
            "/usr/local/lib/python3.6/dist-packages/ipykernel_launcher.py:2: SettingWithCopyWarning: \n",
            "A value is trying to be set on a copy of a slice from a DataFrame.\n",
            "Try using .loc[row_indexer,col_indexer] = value instead\n",
            "\n",
            "See the caveats in the documentation: https://pandas.pydata.org/pandas-docs/stable/user_guide/indexing.html#returning-a-view-versus-a-copy\n",
            "  \n",
            "/usr/local/lib/python3.6/dist-packages/ipykernel_launcher.py:3: SettingWithCopyWarning: \n",
            "A value is trying to be set on a copy of a slice from a DataFrame.\n",
            "Try using .loc[row_indexer,col_indexer] = value instead\n",
            "\n",
            "See the caveats in the documentation: https://pandas.pydata.org/pandas-docs/stable/user_guide/indexing.html#returning-a-view-versus-a-copy\n",
            "  This is separate from the ipykernel package so we can avoid doing imports until\n"
          ],
          "name": "stderr"
        }
      ]
    },
    {
      "cell_type": "code",
      "metadata": {
        "id": "JIZQIdJE5crO",
        "outputId": "56fcd61e-3253-440c-d5f4-12c0a92cc12a",
        "colab": {
          "base_uri": "https://localhost:8080/",
          "height": 419
        }
      },
      "source": [
        "refm3"
      ],
      "execution_count": 29,
      "outputs": [
        {
          "output_type": "execute_result",
          "data": {
            "text/html": [
              "<div>\n",
              "<style scoped>\n",
              "    .dataframe tbody tr th:only-of-type {\n",
              "        vertical-align: middle;\n",
              "    }\n",
              "\n",
              "    .dataframe tbody tr th {\n",
              "        vertical-align: top;\n",
              "    }\n",
              "\n",
              "    .dataframe thead th {\n",
              "        text-align: right;\n",
              "    }\n",
              "</style>\n",
              "<table border=\"1\" class=\"dataframe\">\n",
              "  <thead>\n",
              "    <tr style=\"text-align: right;\">\n",
              "      <th></th>\n",
              "      <th>案件</th>\n",
              "      <th>鄉鎮市區</th>\n",
              "      <th>贊成比例</th>\n",
              "    </tr>\n",
              "  </thead>\n",
              "  <tbody>\n",
              "    <tr>\n",
              "      <th>2</th>\n",
              "      <td>c07</td>\n",
              "      <td>南投縣中寮鄉</td>\n",
              "      <td>0.749540</td>\n",
              "    </tr>\n",
              "    <tr>\n",
              "      <th>3</th>\n",
              "      <td>c07</td>\n",
              "      <td>南投縣仁愛鄉</td>\n",
              "      <td>0.765653</td>\n",
              "    </tr>\n",
              "    <tr>\n",
              "      <th>4</th>\n",
              "      <td>c07</td>\n",
              "      <td>南投縣信義鄉</td>\n",
              "      <td>0.702652</td>\n",
              "    </tr>\n",
              "    <tr>\n",
              "      <th>5</th>\n",
              "      <td>c07</td>\n",
              "      <td>南投縣南投市</td>\n",
              "      <td>0.779196</td>\n",
              "    </tr>\n",
              "    <tr>\n",
              "      <th>6</th>\n",
              "      <td>c07</td>\n",
              "      <td>南投縣名間鄉</td>\n",
              "      <td>0.748985</td>\n",
              "    </tr>\n",
              "    <tr>\n",
              "      <th>...</th>\n",
              "      <td>...</td>\n",
              "      <td>...</td>\n",
              "      <td>...</td>\n",
              "    </tr>\n",
              "    <tr>\n",
              "      <th>3905</th>\n",
              "      <td>c16</td>\n",
              "      <td>高雄市阿蓮區</td>\n",
              "      <td>0.526718</td>\n",
              "    </tr>\n",
              "    <tr>\n",
              "      <th>3906</th>\n",
              "      <td>c16</td>\n",
              "      <td>高雄市鳥松區</td>\n",
              "      <td>0.534527</td>\n",
              "    </tr>\n",
              "    <tr>\n",
              "      <th>3907</th>\n",
              "      <td>c16</td>\n",
              "      <td>高雄市鳳山區</td>\n",
              "      <td>0.563797</td>\n",
              "    </tr>\n",
              "    <tr>\n",
              "      <th>3908</th>\n",
              "      <td>c16</td>\n",
              "      <td>高雄市鹽埕區</td>\n",
              "      <td>0.533689</td>\n",
              "    </tr>\n",
              "    <tr>\n",
              "      <th>3909</th>\n",
              "      <td>c16</td>\n",
              "      <td>高雄市鼓山區</td>\n",
              "      <td>0.564383</td>\n",
              "    </tr>\n",
              "  </tbody>\n",
              "</table>\n",
              "<p>3680 rows × 3 columns</p>\n",
              "</div>"
            ],
            "text/plain": [
              "       案件    鄉鎮市區      贊成比例\n",
              "2     c07  南投縣中寮鄉  0.749540\n",
              "3     c07  南投縣仁愛鄉  0.765653\n",
              "4     c07  南投縣信義鄉  0.702652\n",
              "5     c07  南投縣南投市  0.779196\n",
              "6     c07  南投縣名間鄉  0.748985\n",
              "...   ...     ...       ...\n",
              "3905  c16  高雄市阿蓮區  0.526718\n",
              "3906  c16  高雄市鳥松區  0.534527\n",
              "3907  c16  高雄市鳳山區  0.563797\n",
              "3908  c16  高雄市鹽埕區  0.533689\n",
              "3909  c16  高雄市鼓山區  0.564383\n",
              "\n",
              "[3680 rows x 3 columns]"
            ]
          },
          "metadata": {
            "tags": []
          },
          "execution_count": 29
        }
      ]
    },
    {
      "cell_type": "markdown",
      "metadata": {
        "id": "5FTr2xXK3Rub"
      },
      "source": [
        "**資料來源**:https://newtoypia.blogspot.com/2018/12/pandas.html"
      ]
    },
    {
      "cell_type": "code",
      "metadata": {
        "id": "LIH7XLGP3noH"
      },
      "source": [
        ""
      ],
      "execution_count": null,
      "outputs": []
    }
  ]
}